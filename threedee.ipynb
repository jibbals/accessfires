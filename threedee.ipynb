{
 "cells": [
  {
   "cell_type": "markdown",
   "metadata": {},
   "source": [
    "# Plotly 3-D visualisations\n",
    "\n",
    "- X dimension: longitude\n",
    "- Y dimension: latitude\n",
    "- Z dimension: model level (not height)\n",
    "\n",
    "- To run the threedee stuff on NCI, orca needs to be installed additionally"
   ]
  },
  {
   "cell_type": "raw",
   "metadata": {},
   "source": [
    "### NOT SET UP YET\n",
    "#module use /g/data3/hh5/public/modules\n",
    "#module load conda/analysis3 \n",
    "#install plotly-orca from plotly chanel in .local/lib \n",
    "#conda install -c plotly plotly-orca\n",
    "#pip install -v --no-binary :all: --user -c plotly plotly-orca"
   ]
  },
  {
   "cell_type": "markdown",
   "metadata": {},
   "source": [
    "## Cloud isosurfaces\n",
    " - cloud surfaces are drawn using 0.1g water+ice content per kg air\n",
    " - These are semitransparent, with brighter coloured surfaces at ~.5 and .9 g/kg\n",
    "\n",
    "## Surface topography\n",
    " - All output is based on model-levels\n",
    " - Topography is flat, along the bottom z-level, coloured by altitude\n",
    "\n",
    "## Fire isosurfaces\n",
    " - Fire surfaces are shown using potential temperature\n",
    " - Potential temperature isosurfaces are shown at 311 Kelvin, below ~2km altitude\n",
    "\n",
    "## other stuff to add?\n",
    " - todo items go in here I guess\n",
    " - Sometimes the plotly stuff puts so much data into the notebook that it becomes unrecoverable... this means it's better to put nearly all the functionality into a .py script\n",
    " - this header markdown should also be occasionally saved into the .py script"
   ]
  },
  {
   "cell_type": "code",
   "execution_count": 1,
   "metadata": {},
   "outputs": [],
   "source": [
    "###\n",
    "###  Imports and globally useful stuff here\n",
    "###\n",
    "# Show plots in the browser\n",
    "#%matplotlib inline\n",
    "%matplotlib notebook\n",
    "\n",
    "import matplotlib as mpl\n",
    "from matplotlib import colors, pyplot, ticker, colors\n",
    "import numpy as np\n",
    "from datetime import datetime, timedelta\n",
    "\n",
    "# Display an image from file:\n",
    "from IPython.display import Image\n",
    "#Image(filename='test.png') \n",
    "import matplotlib.image as mpimg\n",
    "\n",
    "\n",
    "from utilities import plotting, utils, fio\n",
    "import threedee\n",
    "\n",
    "# Lets show the model coverage here\n",
    "#Image(filename='figures/waroona_run1/maps/nested_grid.png')"
   ]
  },
  {
   "cell_type": "markdown",
   "metadata": {},
   "source": [
    "### Caption\n",
    "Three nests run by ACCESS-Fire model are shown as red rectangles. \n",
    "The outermost nest (Nest 1) has resolution of approximately 3.5 km by 3.5 km, \n",
    "Nest 2 and Nest 3 have 1.0 km by 1.0 km and 0.3 km by 0.3 km resolutions respectively."
   ]
  },
  {
   "cell_type": "code",
   "execution_count": null,
   "metadata": {},
   "outputs": [],
   "source": [
    "\n",
    "\n"
   ]
  },
  {
   "cell_type": "code",
   "execution_count": null,
   "metadata": {},
   "outputs": [
    {
     "name": "stdout",
     "output_type": "stream",
     "text": [
      "INFO: Reading(iris)  data/waroona_run2/umnsaa_2016010611_slv.nc\n",
      "INFO: Reading(iris)  data/waroona_run2/umnsaa_2016010611_mdl_ro1.nc\n",
      "INFO: Reading(iris)  data/waroona_run2/umnsaa_2016010611_mdl_th1.nc\n",
      "INFO: Reading(iris)  data/waroona_run2/umnsaa_2016010611_mdl_th2.nc\n",
      "INFO: Reading(iris)  data/waroona_run2/umnsaa_2016010515_slv.nc\n",
      "INFO: Reading(iris)  data/waroona_run2/fire/firefront.CSIRO_24h_new.20160105T1500Z.nc\n"
     ]
    }
   ],
   "source": [
    "# import plotly.graph_objects as go\n",
    "# from plotly.io import show\n",
    "# import plotly.io as pio\n",
    "# # Make browser the default plotly renderer\n",
    "# pio.renderers.default = \"browser\"\n",
    "from plotly.io import show\n",
    "import plotly.io as pio\n",
    "\n",
    "pio.renderers.default=\"notebook_connected\"\n",
    "threedee.save_system(send_to_browser=True)\n"
   ]
  },
  {
   "cell_type": "code",
   "execution_count": null,
   "metadata": {},
   "outputs": [],
   "source": []
  }
 ],
 "metadata": {
  "kernelspec": {
   "display_name": "Python 3",
   "language": "python",
   "name": "python3"
  },
  "language_info": {
   "codemirror_mode": {
    "name": "ipython",
    "version": 3
   },
   "file_extension": ".py",
   "mimetype": "text/x-python",
   "name": "python",
   "nbconvert_exporter": "python",
   "pygments_lexer": "ipython3",
   "version": "3.6.7"
  }
 },
 "nbformat": 4,
 "nbformat_minor": 4
}
