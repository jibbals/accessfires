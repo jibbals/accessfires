{
 "cells": [
  {
   "cell_type": "markdown",
   "metadata": {},
   "source": [
    "# Plotly 3-D visualisations\n",
    "\n",
    "- X dimension: longitude\n",
    "- Y dimension: latitude\n",
    "- Z dimension: model level (not height)\n",
    "\n",
    "- To run the threedee stuff on NCI, orca needs to be installed additionally\n",
    "- It might be the case that figures can be saved interactively without orca installed"
   ]
  },
  {
   "cell_type": "raw",
   "metadata": {},
   "source": [
    "##\n",
    "#module use /g/data3/hh5/public/modules\n",
    "#module load conda/analysis3 \n",
    "##conda install -c plotly plotly-orca\n",
    "##pip install :all: --user -c plotly plotly-orca"
   ]
  },
  {
   "cell_type": "markdown",
   "metadata": {},
   "source": [
    "## Cloud isosurfaces\n",
    " - cloud surfaces are drawn using 0.1g water+ice content per kg air\n",
    " - These are semitransparent, with brighter coloured surfaces at ~.5 and .9 g/kg\n",
    "\n",
    "## Surface topography\n",
    " - All output is based on model-levels\n",
    " - Topography is flat, along the bottom z-level, coloured by altitude\n",
    "\n",
    "## Fire isosurfaces\n",
    " - Fire surfaces are shown using potential temperature\n",
    " - Potential temperature isosurfaces are shown at 311 Kelvin, below ~2km altitude\n",
    "\n",
    "## other stuff to add?\n",
    " - todo items go in here I guess\n",
    " - Sometimes the plotly stuff puts so much data into the notebook that it becomes unrecoverable... this means it's better to put nearly all the functionality into a .py script\n",
    " - this header markdown should also be occasionally saved into the .py script"
   ]
  },
  {
   "cell_type": "code",
   "execution_count": 1,
   "metadata": {},
   "outputs": [],
   "source": [
    "import threedee\n",
    "import matplotlib\n",
    "import plotly.io as pio\n",
    "pio.renderers.default=\"browser\" # send images to new tabs (don't bloat this notebook with GB of data)"
   ]
  },
  {
   "cell_type": "code",
   "execution_count": 3,
   "metadata": {},
   "outputs": [
    {
     "name": "stdout",
     "output_type": "stream",
     "text": [
      "INFO: Reading(iris)  data/waroona_run2/umnsaa_2016010607_slv.nc\n",
      "INFO: Reading(iris)  data/waroona_run2/umnsaa_2016010607_mdl_ro1.nc\n",
      "INFO: Reading(iris)  data/waroona_run2/umnsaa_2016010607_mdl_th1.nc\n",
      "INFO: Reading(iris)  data/waroona_run2/umnsaa_2016010607_mdl_th2.nc\n",
      "INFO: Reading(iris)  data/waroona_run2/umnsaa_2016010515_slv.nc\n",
      "INFO: Reading(iris)  data/waroona_run2/fire/firefront.CSIRO_24h_new.20160105T1500Z.nc\n",
      "INFO(verbose): Creating surfaces\n",
      "INFO(verbose): adding heat surface\n",
      "INFO(verbose): Creating surfaces\n",
      "INFO(verbose): adding heat surface\n",
      "INFO(verbose): Creating surfaces\n",
      "INFO(verbose): adding heat surface\n",
      "INFO(verbose): Creating surfaces\n",
      "INFO(verbose): adding heat surface\n",
      "INFO(verbose): Creating surfaces\n",
      "INFO(verbose): adding heat surface\n",
      "INFO(verbose): Creating surfaces\n",
      "INFO(verbose): adding heat surface\n"
     ]
    }
   ],
   "source": [
    "# Save a bunch of images\n",
    "#for hour in range(15,24):\n",
    "\n",
    "for hour in [16]:\n",
    "    #theta_min=311\n",
    "    #theta_max=320\n",
    "    #vert_motion_height = 1700\n",
    "    threedee.save_system(model_run='waroona_run2',\n",
    "                hour = hour,\n",
    "                extent=[115.2,116.2, -33.05,-32.7], # similar to 'waroona' but extra west\n",
    "                HSkip=8,\n",
    "                top_height=13000,\n",
    "                theta_height=2300,\n",
    "                send_to_browser=True,)"
   ]
  },
  {
   "cell_type": "code",
   "execution_count": 4,
   "metadata": {},
   "outputs": [],
   "source": []
  },
  {
   "cell_type": "markdown",
   "metadata": {},
   "source": [
    "### Caption\n",
    "text here\n"
   ]
  },
  {
   "cell_type": "code",
   "execution_count": null,
   "metadata": {},
   "outputs": [],
   "source": [
    "\n",
    "\n"
   ]
  },
  {
   "cell_type": "code",
   "execution_count": null,
   "metadata": {},
   "outputs": [],
   "source": []
  },
  {
   "cell_type": "code",
   "execution_count": null,
   "metadata": {},
   "outputs": [],
   "source": [
    "### TRY MAYAVI STUFF\n",
    "## Set up gui stuff\n",
    "%gui qt\n",
    "import matplotlib\n",
    "matplotlib.use('Qt4Agg')\n",
    "matplotlib.interactive(True)\n",
    "\n",
    "from mayavi import mlab\n",
    "mlab.options.offscreen = True\n"
   ]
  },
  {
   "cell_type": "code",
   "execution_count": null,
   "metadata": {},
   "outputs": [],
   "source": [
    "# test a contour3d plot\n",
    "\n",
    "mlab.test_contour3d()\n",
    "mlab.savefig('figures/test/contour3d.png')\n",
    "\n",
    "\n"
   ]
  },
  {
   "cell_type": "code",
   "execution_count": null,
   "metadata": {},
   "outputs": [],
   "source": [
    "import numpy as np\n",
    "x, y, z, value = np.random.random((4, 40))\n",
    "mlab.points3d(x, y, z, value)\n",
    "mlab.savefig('figures/test/points3d.png')"
   ]
  }
 ],
 "metadata": {
  "kernelspec": {
   "display_name": "Python 3",
   "language": "python",
   "name": "python3"
  },
  "language_info": {
   "codemirror_mode": {
    "name": "ipython",
    "version": 3
   },
   "file_extension": ".py",
   "mimetype": "text/x-python",
   "name": "python",
   "nbconvert_exporter": "python",
   "pygments_lexer": "ipython3",
   "version": "3.6.7"
  }
 },
 "nbformat": 4,
 "nbformat_minor": 4
}
