{
 "cells": [
  {
   "cell_type": "markdown",
   "metadata": {},
   "source": [
    "# This notebook is for the creation of images which are then turned into videos\n",
    "\n",
    "#### First import the required modules\n",
    "\n",
    "Also grab useful globals and initialise matplotlib with nicer parameters"
   ]
  },
  {
   "cell_type": "code",
   "execution_count": 1,
   "metadata": {},
   "outputs": [],
   "source": [
    "# Show plots in the browser\n",
    "%matplotlib inline\n",
    "#%matplotlib notebook\n",
    "\n",
    "import matplotlib as mpl\n",
    "import matplotlib.colors as col\n",
    "import matplotlib.pyplot as plt\n",
    "import matplotlib.ticker as tick\n",
    "import numpy as np\n",
    "#from datetime import datetime\n",
    "\n",
    "# Display an image from file:\n",
    "from IPython.display import Image\n",
    "#Image(filename='test.png') \n",
    "\n",
    "from utilities import plotting, utils, fio\n",
    "\n",
    "\n"
   ]
  },
  {
   "cell_type": "code",
   "execution_count": 2,
   "metadata": {},
   "outputs": [
    {
     "name": "stdout",
     "output_type": "stream",
     "text": [
      "Reading  data/sirivan\\umnsaa_pc2017021121.nc  ... \n",
      "Reading  data/waroona\\umnsaa_pc2016010515.nc  ... \n"
     ]
    },
    {
     "ename": "AssertionError",
     "evalue": "topog latitude doesn't match pc file latitude",
     "output_type": "error",
     "traceback": [
      "\u001b[1;31m---------------------------------------------------------------------------\u001b[0m",
      "\u001b[1;31mAssertionError\u001b[0m                            Traceback (most recent call last)",
      "\u001b[1;32m<ipython-input-2-728b62515f77>\u001b[0m in \u001b[0;36m<module>\u001b[1;34m\u001b[0m\n\u001b[0;32m      2\u001b[0m \u001b[1;31m## Read sir ivan data\u001b[0m\u001b[1;33m\u001b[0m\u001b[1;33m\u001b[0m\u001b[1;33m\u001b[0m\u001b[0m\n\u001b[0;32m      3\u001b[0m \u001b[0msirivan\u001b[0m \u001b[1;33m=\u001b[0m \u001b[0mfio\u001b[0m\u001b[1;33m.\u001b[0m\u001b[0mread_sirivan\u001b[0m\u001b[1;33m(\u001b[0m\u001b[1;33m[\u001b[0m\u001b[0mfio\u001b[0m\u001b[1;33m.\u001b[0m\u001b[0m_files_sirivan_\u001b[0m\u001b[1;33m[\u001b[0m\u001b[1;36m0\u001b[0m\u001b[1;33m]\u001b[0m\u001b[1;33m]\u001b[0m\u001b[1;33m)\u001b[0m\u001b[1;33m\u001b[0m\u001b[1;33m\u001b[0m\u001b[0m\n\u001b[1;32m----> 4\u001b[1;33m \u001b[0mwaroona\u001b[0m \u001b[1;33m=\u001b[0m \u001b[0mfio\u001b[0m\u001b[1;33m.\u001b[0m\u001b[0mread_waroona\u001b[0m\u001b[1;33m(\u001b[0m\u001b[1;33m[\u001b[0m\u001b[0mfio\u001b[0m\u001b[1;33m.\u001b[0m\u001b[0m_files_waroona_old_\u001b[0m\u001b[1;33m[\u001b[0m\u001b[1;36m0\u001b[0m\u001b[1;33m]\u001b[0m\u001b[1;33m]\u001b[0m\u001b[1;33m)\u001b[0m\u001b[1;33m\u001b[0m\u001b[1;33m\u001b[0m\u001b[0m\n\u001b[0m\u001b[0;32m      5\u001b[0m \u001b[1;31m#for k,v in data.items():\u001b[0m\u001b[1;33m\u001b[0m\u001b[1;33m\u001b[0m\u001b[1;33m\u001b[0m\u001b[0m\n\u001b[0;32m      6\u001b[0m \u001b[1;31m#    print(k, np.shape(v))\u001b[0m\u001b[1;33m\u001b[0m\u001b[1;33m\u001b[0m\u001b[1;33m\u001b[0m\u001b[0m\n",
      "\u001b[1;32mP:\\Repos\\accessfires\\utilities\\fio.py\u001b[0m in \u001b[0;36mread_waroona\u001b[1;34m(fpaths, toplev, keepvars, old)\u001b[0m\n\u001b[0;32m    216\u001b[0m     \u001b[1;31m# converted output used to match sirivan output exactly:\u001b[0m\u001b[1;33m\u001b[0m\u001b[1;33m\u001b[0m\u001b[1;33m\u001b[0m\u001b[0m\n\u001b[0;32m    217\u001b[0m     \u001b[1;32mif\u001b[0m \u001b[0mold\u001b[0m\u001b[1;33m:\u001b[0m\u001b[1;33m\u001b[0m\u001b[1;33m\u001b[0m\u001b[0m\n\u001b[1;32m--> 218\u001b[1;33m         \u001b[0mdata\u001b[0m\u001b[1;33m=\u001b[0m \u001b[0mread_sirivan\u001b[0m\u001b[1;33m(\u001b[0m\u001b[0mfpaths\u001b[0m\u001b[1;33m,\u001b[0m\u001b[0mtoplev\u001b[0m\u001b[1;33m,\u001b[0m\u001b[0mkeepvars\u001b[0m\u001b[1;33m)\u001b[0m\u001b[1;33m\u001b[0m\u001b[1;33m\u001b[0m\u001b[0m\n\u001b[0m\u001b[0;32m    219\u001b[0m         \u001b[0mdata\u001b[0m\u001b[1;33m[\u001b[0m\u001b[1;34m'topog'\u001b[0m\u001b[1;33m]\u001b[0m\u001b[1;33m,\u001b[0m \u001b[0mlatt\u001b[0m\u001b[1;33m,\u001b[0m \u001b[0mlont\u001b[0m \u001b[1;33m=\u001b[0m \u001b[0mread_topog\u001b[0m\u001b[1;33m(\u001b[0m\u001b[0m_topog_waroona_\u001b[0m\u001b[1;33m)\u001b[0m\u001b[1;33m\u001b[0m\u001b[1;33m\u001b[0m\u001b[0m\n\u001b[0;32m    220\u001b[0m \u001b[1;33m\u001b[0m\u001b[0m\n",
      "\u001b[1;32mP:\\Repos\\accessfires\\utilities\\fio.py\u001b[0m in \u001b[0;36mread_sirivan\u001b[1;34m(fpaths, toplev, keepvars)\u001b[0m\n\u001b[0;32m    136\u001b[0m     \u001b[1;32mfor\u001b[0m \u001b[0mdim\u001b[0m \u001b[1;32min\u001b[0m \u001b[0mdims\u001b[0m\u001b[1;33m:\u001b[0m\u001b[1;33m\u001b[0m\u001b[1;33m\u001b[0m\u001b[0m\n\u001b[0;32m    137\u001b[0m         \u001b[0mdata\u001b[0m\u001b[1;33m[\u001b[0m\u001b[0mdim\u001b[0m\u001b[1;33m]\u001b[0m \u001b[1;33m=\u001b[0m \u001b[0mdata0\u001b[0m\u001b[1;33m[\u001b[0m\u001b[0mdim\u001b[0m\u001b[1;33m]\u001b[0m\u001b[1;33m\u001b[0m\u001b[1;33m\u001b[0m\u001b[0m\n\u001b[1;32m--> 138\u001b[1;33m     \u001b[1;32massert\u001b[0m \u001b[0mnp\u001b[0m\u001b[1;33m.\u001b[0m\u001b[0mall\u001b[0m\u001b[1;33m(\u001b[0m\u001b[0mdata\u001b[0m\u001b[1;33m[\u001b[0m\u001b[1;34m'latitude'\u001b[0m\u001b[1;33m]\u001b[0m \u001b[1;33m==\u001b[0m \u001b[0mlatt\u001b[0m\u001b[1;33m)\u001b[0m\u001b[1;33m,\u001b[0m \u001b[1;34m\"topog latitude doesn't match pc file latitude\"\u001b[0m\u001b[1;33m\u001b[0m\u001b[1;33m\u001b[0m\u001b[0m\n\u001b[0m\u001b[0;32m    139\u001b[0m     \u001b[1;32massert\u001b[0m \u001b[0mnp\u001b[0m\u001b[1;33m.\u001b[0m\u001b[0mall\u001b[0m\u001b[1;33m(\u001b[0m\u001b[0mdata\u001b[0m\u001b[1;33m[\u001b[0m\u001b[1;34m'longitude'\u001b[0m\u001b[1;33m]\u001b[0m \u001b[1;33m==\u001b[0m \u001b[0mlont\u001b[0m\u001b[1;33m)\u001b[0m\u001b[1;33m,\u001b[0m \u001b[1;34m\"topog longitude doesn't match pc file longitude\"\u001b[0m\u001b[1;33m\u001b[0m\u001b[1;33m\u001b[0m\u001b[0m\n\u001b[0;32m    140\u001b[0m \u001b[1;33m\u001b[0m\u001b[0m\n",
      "\u001b[1;31mAssertionError\u001b[0m: topog latitude doesn't match pc file latitude"
     ]
    }
   ],
   "source": [
    "# Load the first sirivan output time step, this is used to show example plots\n",
    "## Read sir ivan data\n",
    "sirivan = fio.read_sirivan([fio._files_sirivan_[0]])\n",
    "waroona = fio.read_waroona([fio._files_waroona_old_[0]])\n",
    "#for k,v in data.items():\n",
    "#    print(k, np.shape(v))"
   ]
  },
  {
   "cell_type": "markdown",
   "metadata": {},
   "source": [
    "### AFAC Outline of weather at fire site\n",
    "\n",
    "#### 211 topography, sites of interest, surface wind, and transect line\n",
    "\n",
    "I can just plot all the sites I have since the map will only show those within the desired extent (boundaries E,W,S,N)\n",
    "\n",
    "#### 223 vertical motion along transect\n",
    "\n",
    "#### 224 horizontal wind speed along transect\n",
    "\n",
    "Transects also show the topography as a black area along the bottom, Eventually we will add colour to this to depict fire heat flux (when I have fire data and I can read it)"
   ]
  },
  {
   "cell_type": "code",
   "execution_count": 7,
   "metadata": {},
   "outputs": [],
   "source": [
    "def winds_2panel(topog, w, s, u, v, z, lat, lon, \n",
    "                 extentname='waroona',\n",
    "                 transect=1, \n",
    "                 vectorskip=14,\n",
    "                 quiverscale=60,\n",
    "                 dtime=None,\n",
    "                 ext='.png'\n",
    "                ):\n",
    "    '''\n",
    "    211 Plot showing contour map and wind speed, along with near sites and transect\n",
    "    223 plot showing vertical motion along transect\n",
    "    224 plot showing wind speed along transect\n",
    "    INPUTS:\n",
    "        topography, vert motion, wind speed, z,lat,lon, \n",
    "        extentname = { 'waroona' | 'sirivan' } choice of two fire locations\n",
    "        transect = int from 1 to 6 for transect choice\n",
    "        vectorskip reduces quiver density (may need to fiddle)\n",
    "        quiverscale changes how long the arrows are (also may need to fiddle)\n",
    "        dtime is datetime of output \n",
    "        ext is the plot extension { '.png' | '.eps' }\n",
    "    '''\n",
    "    # datetime timestamp for file,title\n",
    "    if dtime is None:\n",
    "        dstamp = \"20YYMMDDHHMM\"\n",
    "    else:\n",
    "        dstamp = dtime.strftime(\"%Y%m%d%H%M\")\n",
    "    # figure name and location\n",
    "    pname=\"figures/%s/winds_outline_X%d/fig_%s%s\"%(extentname,transect,dstamp,ext)\n",
    "    \n",
    "    # set font sizes\n",
    "    plotting.init_plots()\n",
    "    \n",
    "    # get plot extent, and transect\n",
    "    extent = plotting._extents_[extentname]\n",
    "    start,end = plotting._transects_[\"%s%d\"%(extentname,transect)]\n",
    "    \n",
    "    plt.figure(figsize=[7,10])\n",
    "    ax1 = plt.subplot(2,1,1)\n",
    "    \n",
    "    # top panel is topography\n",
    "    plotting.map_topography(extent,topog,lat,lon)\n",
    "    plt.title('Topography, wind speed ')\n",
    "    \n",
    "    # start to end x=[lon0,lon1], y=[lat0, lat1]\n",
    "    plt.plot([start[1],end[1]],[start[0],end[0], ], '--k', \n",
    "             linewidth=2, marker='o', markersize=5)\n",
    "    \n",
    "    # add nearby towns\n",
    "    if extent == 'waroona':\n",
    "        plotting.map_add_locations(['waroona','yarloop'], \n",
    "                                   text=['Waroona', 'Yarloop'], \n",
    "                                   textcolor='lightgrey')\n",
    "        # add fire ignition\n",
    "        plotting.map_add_locations(['fire_waroona'],\n",
    "                                   text = ['Fire ignition'], \n",
    "                                   color='r', marker='*', textcolor='lightgrey')\n",
    "        # add pyroCB\n",
    "    else:\n",
    "        plotting.map_add_locations(['sirivan','uarbry'], \n",
    "                                   text=['Sir Ivan','Uarbry'],\n",
    "                                   dx=[-.02,.05], dy =[-.015,-.03],\n",
    "                                   textcolor='lightgrey')\n",
    "        # add fire ignition\n",
    "        plotting.map_add_locations(['fire_sirivan'],\n",
    "                                   text = ['Fire ignition'], dx=.05,\n",
    "                                   color='r', marker='*', textcolor='lightgrey')\n",
    "        # add pyroCB\n",
    "\n",
    "    \n",
    "    # Add vectors for winds\n",
    "    # just surface, and one every 10 points to reduce density\n",
    "    skip = (slice(None,None,vectorskip),slice(None,None,vectorskip))\n",
    "    #mlon,mlat = np.meshgrid(lon,lat)\n",
    "    plt.quiver(lon[skip[1]],lat[skip[0]],u[0][skip],v[0][skip], scale=quiverscale)\n",
    "    \n",
    "    \n",
    "    ## Second row is transect plots\n",
    "    ax2 = plt.subplot(2,2,3)\n",
    "    plotting.transect_w(w,z, lat, lon,start,end,topog=topog)\n",
    "    plt.ylabel('height (m)')\n",
    "    plt.xlabel('transect')\n",
    "    \n",
    "    ax3 = plt.subplot(2,2,4)\n",
    "    plotting.transect_s(s,z,lat,lon,start,end,topog=topog)\n",
    "    plt.yticks([])\n",
    "    plt.xlabel('transect')\n",
    "    \n",
    "    # Save figure into animation folder with numeric identifier\n",
    "    plt.suptitle(dstamp)\n",
    "    print(\"SAVING FIGURE:\",pname)\n",
    "    plt.savefig(pname)\n",
    "    plt.close()\n",
    "    return pname\n"
   ]
  },
  {
   "cell_type": "code",
   "execution_count": 9,
   "metadata": {
    "scrolled": false
   },
   "outputs": [
    {
     "name": "stdout",
     "output_type": "stream",
     "text": [
      "SAVING FIGURE: figures/sirivan/winds_outline_X1/fig_20YYMMDDHHMM.png\n"
     ]
    },
    {
     "data": {
      "text/plain": [
       "array([413019.01666667, 413019.51666667])"
      ]
     },
     "execution_count": 9,
     "metadata": {},
     "output_type": "execute_result"
    }
   ],
   "source": [
    "# Lets check the output\n",
    "## EXAMPLE \n",
    "\n",
    "tstep=0\n",
    "for data in [sirivan,waroona]:\n",
    "    pname = winds_2panel(data['topog'], data['upward_air_velocity'][tstep], data['wind_speed'][tstep],\n",
    "                         data['x_wind_destaggered'][tstep], data['y_wind_destaggered'][tstep],\n",
    "                         data['zth'][tstep], data['latitude'], data['longitude'], \n",
    "                         extentname='sirivan')\n",
    "    Image(filename=pname)\n"
   ]
  },
  {
   "cell_type": "markdown",
   "metadata": {},
   "source": [
    "## Now run this in a loop, creating one figure for each time step\n",
    "\n",
    "The datestamp will be used to name each figure, hopefully ffmpeg can handle this"
   ]
  },
  {
   "cell_type": "code",
   "execution_count": 14,
   "metadata": {},
   "outputs": [
    {
     "name": "stdout",
     "output_type": "stream",
     "text": [
      "Reading  data/sirivan/umnsaa_pc2017021203.nc  ... \n",
      "SAVING FIGURE: figures/sirivan/winds_outline_X1/fig_201702120300.png\n",
      "SAVING FIGURE: figures/sirivan/winds_outline_X1/fig_201702120331.png\n",
      "Reading  data/sirivan/umnsaa_pc2017021205.nc  ... \n",
      "SAVING FIGURE: figures/sirivan/winds_outline_X1/fig_201702120501.png\n",
      "SAVING FIGURE: figures/sirivan/winds_outline_X1/fig_201702120531.png\n",
      "Reading  data/sirivan/umnsaa_pc2017021202.nc  ... \n",
      "SAVING FIGURE: figures/sirivan/winds_outline_X1/fig_201702120201.png\n",
      "SAVING FIGURE: figures/sirivan/winds_outline_X1/fig_201702120231.png\n",
      "Reading  data/sirivan/umnsaa_pc2017021122.nc  ... \n",
      "SAVING FIGURE: figures/sirivan/winds_outline_X1/fig_201702112201.png\n",
      "SAVING FIGURE: figures/sirivan/winds_outline_X1/fig_201702112230.png\n",
      "Reading  data/sirivan/umnsaa_pc2017021123.nc  ... \n",
      "SAVING FIGURE: figures/sirivan/winds_outline_X1/fig_201702112301.png\n",
      "SAVING FIGURE: figures/sirivan/winds_outline_X1/fig_201702112331.png\n",
      "Reading  data/sirivan/umnsaa_pc2017021121.nc  ... \n",
      "SAVING FIGURE: figures/sirivan/winds_outline_X1/fig_201702112100.png\n",
      "SAVING FIGURE: figures/sirivan/winds_outline_X1/fig_201702112131.png\n",
      "Reading  data/sirivan/umnsaa_pc2017021200.nc  ... \n",
      "SAVING FIGURE: figures/sirivan/winds_outline_X1/fig_201702120000.png\n",
      "SAVING FIGURE: figures/sirivan/winds_outline_X1/fig_201702120031.png\n",
      "Reading  data/sirivan/umnsaa_pc2017021204.nc  ... \n",
      "SAVING FIGURE: figures/sirivan/winds_outline_X1/fig_201702120401.png\n",
      "SAVING FIGURE: figures/sirivan/winds_outline_X1/fig_201702120430.png\n",
      "Reading  data/sirivan/umnsaa_pc2017021201.nc  ... \n",
      "SAVING FIGURE: figures/sirivan/winds_outline_X1/fig_201702120101.png\n",
      "SAVING FIGURE: figures/sirivan/winds_outline_X1/fig_201702120130.png\n"
     ]
    }
   ],
   "source": [
    "# Read each file one by one\n",
    "for file_si in fio._files_sirivan_:\n",
    "    data = fio.read_sirivan([file_si])\n",
    "    # datetime of outputs\n",
    "    dtime = utils.date_from_gregorian(data['time'])\n",
    "    \n",
    "    for tstep in range(2):\n",
    "        pname = winds_2panel(data['topog'], data['upward_air_velocity'][tstep], data['wind_speed'][tstep],\n",
    "                             data['x_wind_destaggered'][tstep], data['y_wind_destaggered'][tstep],\n",
    "                             data['zth'][tstep], data['latitude'], data['longitude'], \n",
    "                             dtime=dtime[tstep],\n",
    "                             extentname='sirivan')\n",
    "    "
   ]
  },
  {
   "cell_type": "code",
   "execution_count": 19,
   "metadata": {},
   "outputs": [
    {
     "name": "stdout",
     "output_type": "stream",
     "text": [
      "['data/sirivan/umnsaa_pc2017021121.nc', 'data/sirivan/umnsaa_pc2017021122.nc', 'data/sirivan/umnsaa_pc2017021123.nc', 'data/sirivan/umnsaa_pc2017021200.nc', 'data/sirivan/umnsaa_pc2017021201.nc', 'data/sirivan/umnsaa_pc2017021202.nc', 'data/sirivan/umnsaa_pc2017021203.nc', 'data/sirivan/umnsaa_pc2017021204.nc', 'data/sirivan/umnsaa_pc2017021205.nc']\n"
     ]
    }
   ],
   "source": []
  },
  {
   "cell_type": "code",
   "execution_count": null,
   "metadata": {},
   "outputs": [],
   "source": []
  }
 ],
 "metadata": {
  "kernelspec": {
   "display_name": "Python 3",
   "language": "python",
   "name": "python3"
  },
  "language_info": {
   "codemirror_mode": {
    "name": "ipython",
    "version": 3
   },
   "file_extension": ".py",
   "mimetype": "text/x-python",
   "name": "python",
   "nbconvert_exporter": "python",
   "pygments_lexer": "ipython3",
   "version": "3.7.4"
  }
 },
 "nbformat": 4,
 "nbformat_minor": 2
}
