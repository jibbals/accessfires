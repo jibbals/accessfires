{
 "cells": [
  {
   "cell_type": "markdown",
   "metadata": {},
   "source": [
    "# Case study of Waroona bush fires\n",
    "\n",
    "\n",
    "## Outline\n",
    "\n",
    "#### Waroona fire: 2016-01-05 to 2016-01-07\n",
    "\n",
    "TODO - general fire notes\n",
    " - 181 Homes destroyed (2 lives lost)\n",
    " - Ignition at xxx, downwind spotting around xxx\n",
    " - Burned ~ 3 days, worst conditions on first 2 days\n",
    " - PyroCB formed at ...\n",
    "\n",
    "\n",
    "Pyrocumulonimbus formed at Waroona, photographed by ...\n",
    "<img src=\"figures/PyroCB_Waroona_Photo.png\" alt=\"PyroCB\" style=\"width: 400px;\"/>\n",
    "\n",
    "#### Model outputs\n",
    "Harvey Ye has run access coupled to a fire model, with outputs converted to netcdf using a script in xxx.\n",
    "Generally the model resolution is approximately 300m x 300m in the smallest nest \n",
    "<table><tr>\n",
    "    <td> <img src=\"figures/waroona_run1/maps/nested_grid.png\" alt=\"Nested Model Grids\" style=\"width: 500px;\"/> </td>\n",
    "</tr></table>\n",
    "\n",
    "Outputs are available from currently 4.5 different model runs:\n",
    "  1. __Waroona_oldold__\n",
    "      - Run in ...\n",
    "      - Output at 30 minute resolution (directory)\n",
    "      - Meteorology not affected by fire model\n",
    "      - other notes ...\n",
    "  \n",
    "  \n",
    "  2. __Waroona_old__\n",
    "      - Run in 2018xxxx\n",
    "      - Output at 30 minute resolution (directory)\n",
    "      - Run crashed after 21 hours due to runaway model physics (vertical wind speeds > 1km/s)\n",
    "      - Fast fire spread parameters\n",
    "      - Clear PyroCB creation around xxx\n",
    "      <img src=\"figures/waroona_old/fireplan/fire_outline.png\" alt=\"Fire spread\" style=\"width: 500px;\"/>\n",
    "  \n",
    "  \n",
    "  3. __Waroona_run1__\n",
    "      - Run in 2019xxxx\n",
    "      - Output at 10 minute resolution (directory)\n",
    "      - Increased boundary layer stability to prevent crash\n",
    "      - Slower updated fire spread parameters\n",
    "      <img src=\"figures/waroona_run1/fireplan/fire_outline.png\" alt=\"Fire spread\" style=\"width: 500px;\"/>\n",
    "  \n",
    "  4. __Waroona_run2(uc)__\n",
    "      - Run in 201912\n",
    "      - Output at 10 minute resolution\n",
    "      - Increased boundary layer stability\n",
    "      - Fire spread parameters: Faster (older, matching waroona_old)\n",
    "      - can be compared to __Waroona_run2uc__, which has identical settings but no fire coupling\n",
    "      <img src=\"figures/waroona_run2/fireplan/fire_outline.png\" alt=\"Fire spread\" style=\"width: 500px;\"/>\n"
   ]
  },
  {
   "cell_type": "markdown",
   "metadata": {},
   "source": [
    "## PyroCB Creation summary\n",
    "\n",
    "#### Do we expect PyroCB Based on modelled weather?\n",
    "Kevin Tory has developed code that takes a vertical profile of air and estimates how much fire power would be required for a PyroCB to develop.\n",
    "This power requirement is called the PyroCB Firepower Threshold (PFT), and by looking at the PFT over time in comparison to the modelled firepower, we can see whether a PyroCB is expected.\n",
    "\n",
    "These figures shows the PFT (dashed) and modelled firepower (solid) for three of the model runs:\n",
    "<img src=\"figures/waroona_old/fireplan/firepower_comparison.png\" alt=\"PFT and firepower\" style=\"width: 500px;\"/>\n",
    "The __old run__ shows a couple of firepower spikes that exceed PFT, once __at 0430 and again at 0800 (UTC)__.\n",
    "Later plots also show PyroCB forming in this run.\n",
    "<img src=\"figures/waroona_run1/fireplan/firepower_comparison.png\" alt=\"PFT and firepower\" style=\"width: 500px;\"/>\n",
    "__In run1__ the PFT never dips below the modelled firepower (but it comes close at 0800 UTC), and in fact no PyroCB are evident in looking through the output.\n",
    "<img src=\"figures/waroona_run2/fireplan/firepower_comparison.png\" alt=\"PFT and firepower\" style=\"width: 500px;\"/>\n",
    "__Run 2__ shows firepower surpassing PFT frequently __between 0530 and 1400__.\n",
    "\n",
    "#### Modelled vertical wind speed and modelled cloud content\n",
    "To home in on where pyrocb may be forming, I zoom to a subset of the horizontal region that surrounds the fire. An idea of the nearby wind structures can be seen by taking horizontal model slices (at varying altitudes) of vertical wind motion (filled contour map), and total cloud content (black outlines).\n",
    "\n",
    "<video controls src=\"figures/waroona_old/vert_motion_slices_vid.mp4\" style=\"width: 700px;\"/>\n"
   ]
  },
  {
   "cell_type": "markdown",
   "metadata": {},
   "source": [
    "The above video shows horizontal slices of vertical wind for the __old run__.   \n",
    "A cloud column from ~2500m altitude is seen between Jan 5 2030 and 2130 UTC. Another cloud column in upper troposphere appears at Jan 6 0000 and appears to continue until the end of the simulation, although clear strengthening of the column occurs around 0400 and 0700.\n"
   ]
  },
  {
   "cell_type": "markdown",
   "metadata": {},
   "source": [
    "<video controls src=\"figures/waroona_run2/vert_motion_slices_vid.mp4\" style=\"width: 700px;\"/>"
   ]
  },
  {
   "cell_type": "markdown",
   "metadata": {},
   "source": [
    "This video shows slices for __Waroona run 2__.\n",
    "TODO"
   ]
  },
  {
   "cell_type": "markdown",
   "metadata": {},
   "source": [
    "\n",
    "#### Transects of vertical wind speed and potential temperature\n",
    "\n",
    "If we create cross sections we see the updraft driving the storm formation, with a strong internal updraft surrounded by downdrafts throughout the troposphere.\n",
    "\n",
    "<video controls src=\"figures/waroona_old/pyrocb_moving_vid.mp4\" style=\"width: 700px;\"/>\n",
    "\n"
   ]
  },
  {
   "cell_type": "code",
   "execution_count": null,
   "metadata": {},
   "outputs": [],
   "source": []
  }
 ],
 "metadata": {
  "kernelspec": {
   "display_name": "Python 3",
   "language": "python",
   "name": "python3"
  },
  "language_info": {
   "codemirror_mode": {
    "name": "ipython",
    "version": 3
   },
   "file_extension": ".py",
   "mimetype": "text/x-python",
   "name": "python",
   "nbconvert_exporter": "python",
   "pygments_lexer": "ipython3",
   "version": "3.7.3"
  }
 },
 "nbformat": 4,
 "nbformat_minor": 2
}
